{
 "cells": [
  {
   "cell_type": "code",
   "execution_count": 1,
   "metadata": {},
   "outputs": [],
   "source": [
    "#lambda - It takes only single expression\n"
   ]
  },
  {
   "cell_type": "code",
   "execution_count": 2,
   "metadata": {},
   "outputs": [
    {
     "name": "stdout",
     "output_type": "stream",
     "text": [
      "[2, 4, 6, 8, 10]\n",
      "[4, 8, 12, 16, 20]\n",
      "60\n"
     ]
    }
   ],
   "source": [
    "from functools import *\n",
    "\n",
    "numbers=[1,2,3,4,5,6,7,8,9,10]\n",
    "\n",
    "#filter is used to pick out the even numbers from the given list\n",
    "\n",
    "even=list(filter(lambda n:n%2==0,numbers))\n",
    "print(even)\n",
    "\n",
    "#map is used to do the given function which it is double here\n",
    "\n",
    "double=list(map(lambda n:n*2,even))\n",
    "print(double)\n",
    "\n",
    "#reduce function is used to reduce the expression and give a single output\n",
    "\n",
    "addition =reduce(lambda a,b:a+b,double)\n",
    "print (addition)"
   ]
  },
  {
   "cell_type": "code",
   "execution_count": null,
   "metadata": {},
   "outputs": [],
   "source": []
  }
 ],
 "metadata": {
  "kernelspec": {
   "display_name": "Python 3",
   "language": "python",
   "name": "python3"
  },
  "language_info": {
   "codemirror_mode": {
    "name": "ipython",
    "version": 3
   },
   "file_extension": ".py",
   "mimetype": "text/x-python",
   "name": "python",
   "nbconvert_exporter": "python",
   "pygments_lexer": "ipython3",
   "version": "3.6.11"
  }
 },
 "nbformat": 4,
 "nbformat_minor": 4
}
